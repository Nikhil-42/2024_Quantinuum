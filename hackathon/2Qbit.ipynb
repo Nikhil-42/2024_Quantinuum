{
 "cells": [
  {
   "cell_type": "code",
   "execution_count": 7,
   "id": "46443f87-8136-48bb-a9a0-eb2d6c1dc8a5",
   "metadata": {},
   "outputs": [],
   "source": [
    "from pytket.circuit import Circuit\n",
    "from pytket.circuit.display import render_circuit_jupyter\n",
    "from pytket.circuit import QControlBox\n",
    "from pytket.extensions.qiskit import AerBackend\n",
    "from pytket.circuit import CircBox"
   ]
  },
  {
   "cell_type": "code",
   "execution_count": 8,
   "id": "de1e09a6-16cc-484e-be36-8b8505f48ef1",
   "metadata": {},
   "outputs": [],
   "source": [
    "#Return Inverse Quantum Fourier Transform Circuit\n",
    "def iqft():\n",
    "    iqft2 = Circuit(2)\n",
    "    iqft2.H(0)\n",
    "    iqft2.CU1(-0.5, 1, 0)\n",
    "    iqft2.H(1)\n",
    "    iqft2_box: CircBox = CircBox(iqft2)\n",
    "    return iqft2_box"
   ]
  },
  {
   "cell_type": "code",
   "execution_count": 9,
   "id": "65916999-9017-45c9-b398-5859a41729e7",
   "metadata": {},
   "outputs": [],
   "source": [
    "def QPE(U):\n",
    "    QPE = Circuit()\n",
    "    m = QPE.add_q_register(\"m\", 2)\n",
    "    s = QPE.add_q_register(\"p\", 1)\n",
    "    QPE.H(m[0])\n",
    "    QPE.H(m[1])\n",
    "    QPE.X(s[0])\n",
    "    controlled_u_gate = QControlBox(CircBox(U), 1)\n",
    "    QPE.add_qcontrolbox(controlled_u_gate, [m[1], s[0]])\n",
    "    QPE.add_qcontrolbox(controlled_u_gate, [m[0], s[0]])\n",
    "    QPE.add_qcontrolbox(controlled_u_gate, [m[0], s[0]])\n",
    "    QPE.add_circbox(iqft(), m)\n",
    "    QPE.measure_register(m, \"c\")\n",
    "    return QPE"
   ]
  },
  {
   "cell_type": "code",
   "execution_count": 10,
   "id": "9bf9181d-f412-4381-85ee-d9b599caf438",
   "metadata": {},
   "outputs": [],
   "source": [
    "#Quantum Phase Estimation Circuit\n",
    "input_angle = 0.49\n",
    "unitary_circuit = Circuit(1).U1(input_angle, 0)\n",
    "unitary_circuit.name = \"U\"\n",
    "QPE = QPE(unitary_circuit)"
   ]
  },
  {
   "cell_type": "code",
   "execution_count": 12,
   "id": "73bd8329-a1e7-4c6e-bf39-950552b859cc",
   "metadata": {},
   "outputs": [
    {
     "name": "stdout",
     "output_type": "stream",
     "text": [
      "Counter({(1, 0): 998, (0, 1): 1, (1, 1): 1}) up\n"
     ]
    }
   ],
   "source": [
    "backend = AerBackend()\n",
    "compiled_circ = backend.get_compiled_circuit(QPE)\n",
    "n_shots = 1000\n",
    "result = backend.run_circuit(compiled_circ, n_shots)\n",
    "dir_dict = {(0,0):'right', (1,0):'up', (0,1):'left', (1,1):'down'}\n",
    "print(result.get_counts(), dir_dict[result.get_counts().most_common(1)[0][0]])"
   ]
  },
  {
   "cell_type": "code",
   "execution_count": 118,
   "id": "89205782-1b30-4cc1-9322-8fa3e39a4db1",
   "metadata": {},
   "outputs": [
    {
     "data": {
      "text/html": [
       "\n",
       "\n",
       "\n",
       "\n",
       "\n",
       "\n",
       "<div style=\"resize: vertical; overflow: auto; height: 400px; display: block\">\n",
       "    <iframe srcdoc=\"\n",
       "&lt;!DOCTYPE html&gt;\n",
       "&lt;html lang=&#34;en&#34;&gt;\n",
       "&lt;head&gt;\n",
       "    &lt;meta charset=&#34;UTF-8&#34;&gt;\n",
       "    &lt;!-- Download Vue 3--&gt;\n",
       "&lt;script type=&#34;application/javascript&#34; src=&#34;https://cdn.jsdelivr.net/npm/vue@3&#34;&gt;&lt;/script&gt;\n",
       "&lt;!-- Download Circuit Renderer with styles --&gt;\n",
       "&lt;script type=&#34;application/javascript&#34; src=&#34;https://unpkg.com/pytket-circuit-renderer@0.7/dist/pytket-circuit-renderer.umd.js&#34;&gt;&lt;/script&gt;\n",
       "&lt;link rel=&#34;stylesheet&#34; href=&#34;https://unpkg.com/pytket-circuit-renderer@0.7/dist/pytket-circuit-renderer.css&#34;&gt;\n",
       "&lt;/head&gt;\n",
       "&lt;body&gt;\n",
       "\n",
       "\n",
       "\n",
       "    &lt;div id=&#34;circuit-display-vue-container-55e8aff9-451e-451d-9df1-a0f3231b159d&#34; class=&#34;pytket-circuit-display-container&#34;&gt;\n",
       "        &lt;div style=&#34;display: none&#34;&gt;\n",
       "            &lt;div id=&#34;circuit-json-to-display&#34;&gt;{&#34;bits&#34;: [[&#34;c&#34;, [0]], [&#34;c&#34;, [1]]], &#34;commands&#34;: [{&#34;args&#34;: [[&#34;m&#34;, [0]]], &#34;op&#34;: {&#34;type&#34;: &#34;H&#34;}}, {&#34;args&#34;: [[&#34;m&#34;, [1]]], &#34;op&#34;: {&#34;type&#34;: &#34;H&#34;}}, {&#34;args&#34;: [[&#34;p&#34;, [0]]], &#34;op&#34;: {&#34;type&#34;: &#34;X&#34;}}, {&#34;args&#34;: [[&#34;m&#34;, [1]], [&#34;p&#34;, [0]]], &#34;op&#34;: {&#34;box&#34;: {&#34;control_state&#34;: 1, &#34;id&#34;: &#34;e7fafb0b-d549-4ad8-a3ca-3212248a38b9&#34;, &#34;n_controls&#34;: 1, &#34;op&#34;: {&#34;box&#34;: {&#34;circuit&#34;: {&#34;bits&#34;: [], &#34;commands&#34;: [{&#34;args&#34;: [[&#34;q&#34;, [0]]], &#34;op&#34;: {&#34;params&#34;: [&#34;0.49&#34;], &#34;type&#34;: &#34;U1&#34;}}], &#34;created_qubits&#34;: [], &#34;discarded_qubits&#34;: [], &#34;implicit_permutation&#34;: [[[&#34;q&#34;, [0]], [&#34;q&#34;, [0]]]], &#34;name&#34;: &#34;U&#34;, &#34;phase&#34;: &#34;0.0&#34;, &#34;qubits&#34;: [[&#34;q&#34;, [0]]]}, &#34;id&#34;: &#34;a2d5a5f0-5640-4bd5-aec9-00ce166bbaf2&#34;, &#34;type&#34;: &#34;CircBox&#34;}, &#34;type&#34;: &#34;CircBox&#34;}, &#34;type&#34;: &#34;QControlBox&#34;}, &#34;type&#34;: &#34;QControlBox&#34;}}, {&#34;args&#34;: [[&#34;m&#34;, [0]], [&#34;p&#34;, [0]]], &#34;op&#34;: {&#34;box&#34;: {&#34;control_state&#34;: 1, &#34;id&#34;: &#34;e7fafb0b-d549-4ad8-a3ca-3212248a38b9&#34;, &#34;n_controls&#34;: 1, &#34;op&#34;: {&#34;box&#34;: {&#34;circuit&#34;: {&#34;bits&#34;: [], &#34;commands&#34;: [{&#34;args&#34;: [[&#34;q&#34;, [0]]], &#34;op&#34;: {&#34;params&#34;: [&#34;0.49&#34;], &#34;type&#34;: &#34;U1&#34;}}], &#34;created_qubits&#34;: [], &#34;discarded_qubits&#34;: [], &#34;implicit_permutation&#34;: [[[&#34;q&#34;, [0]], [&#34;q&#34;, [0]]]], &#34;name&#34;: &#34;U&#34;, &#34;phase&#34;: &#34;0.0&#34;, &#34;qubits&#34;: [[&#34;q&#34;, [0]]]}, &#34;id&#34;: &#34;a2d5a5f0-5640-4bd5-aec9-00ce166bbaf2&#34;, &#34;type&#34;: &#34;CircBox&#34;}, &#34;type&#34;: &#34;CircBox&#34;}, &#34;type&#34;: &#34;QControlBox&#34;}, &#34;type&#34;: &#34;QControlBox&#34;}}, {&#34;args&#34;: [[&#34;m&#34;, [0]], [&#34;p&#34;, [0]]], &#34;op&#34;: {&#34;box&#34;: {&#34;control_state&#34;: 1, &#34;id&#34;: &#34;e7fafb0b-d549-4ad8-a3ca-3212248a38b9&#34;, &#34;n_controls&#34;: 1, &#34;op&#34;: {&#34;box&#34;: {&#34;circuit&#34;: {&#34;bits&#34;: [], &#34;commands&#34;: [{&#34;args&#34;: [[&#34;q&#34;, [0]]], &#34;op&#34;: {&#34;params&#34;: [&#34;0.49&#34;], &#34;type&#34;: &#34;U1&#34;}}], &#34;created_qubits&#34;: [], &#34;discarded_qubits&#34;: [], &#34;implicit_permutation&#34;: [[[&#34;q&#34;, [0]], [&#34;q&#34;, [0]]]], &#34;name&#34;: &#34;U&#34;, &#34;phase&#34;: &#34;0.0&#34;, &#34;qubits&#34;: [[&#34;q&#34;, [0]]]}, &#34;id&#34;: &#34;a2d5a5f0-5640-4bd5-aec9-00ce166bbaf2&#34;, &#34;type&#34;: &#34;CircBox&#34;}, &#34;type&#34;: &#34;CircBox&#34;}, &#34;type&#34;: &#34;QControlBox&#34;}, &#34;type&#34;: &#34;QControlBox&#34;}}, {&#34;args&#34;: [[&#34;m&#34;, [0]], [&#34;m&#34;, [1]]], &#34;op&#34;: {&#34;box&#34;: {&#34;circuit&#34;: {&#34;bits&#34;: [], &#34;commands&#34;: [{&#34;args&#34;: [[&#34;q&#34;, [0]]], &#34;op&#34;: {&#34;type&#34;: &#34;H&#34;}}, {&#34;args&#34;: [[&#34;q&#34;, [1]], [&#34;q&#34;, [0]]], &#34;op&#34;: {&#34;params&#34;: [&#34;-0.5&#34;], &#34;type&#34;: &#34;CU1&#34;}}, {&#34;args&#34;: [[&#34;q&#34;, [1]]], &#34;op&#34;: {&#34;type&#34;: &#34;H&#34;}}], &#34;created_qubits&#34;: [], &#34;discarded_qubits&#34;: [], &#34;implicit_permutation&#34;: [[[&#34;q&#34;, [0]], [&#34;q&#34;, [0]]], [[&#34;q&#34;, [1]], [&#34;q&#34;, [1]]]], &#34;phase&#34;: &#34;0.0&#34;, &#34;qubits&#34;: [[&#34;q&#34;, [0]], [&#34;q&#34;, [1]]]}, &#34;id&#34;: &#34;5b58dca2-5738-41d9-a51b-bb8ae241c198&#34;, &#34;type&#34;: &#34;CircBox&#34;}, &#34;type&#34;: &#34;CircBox&#34;}}, {&#34;args&#34;: [[&#34;m&#34;, [0]], [&#34;c&#34;, [0]]], &#34;op&#34;: {&#34;type&#34;: &#34;Measure&#34;}}, {&#34;args&#34;: [[&#34;m&#34;, [1]], [&#34;c&#34;, [1]]], &#34;op&#34;: {&#34;type&#34;: &#34;Measure&#34;}}], &#34;created_qubits&#34;: [], &#34;discarded_qubits&#34;: [], &#34;implicit_permutation&#34;: [[[&#34;m&#34;, [0]], [&#34;m&#34;, [0]]], [[&#34;m&#34;, [1]], [&#34;m&#34;, [1]]], [[&#34;p&#34;, [0]], [&#34;p&#34;, [0]]]], &#34;phase&#34;: &#34;0.0&#34;, &#34;qubits&#34;: [[&#34;m&#34;, [0]], [&#34;m&#34;, [1]], [&#34;p&#34;, [0]]]}&lt;/div&gt;\n",
       "        &lt;/div&gt;\n",
       "        &lt;circuit-display-container\n",
       "                :circuit-element-str=&#34;&#39;#circuit-json-to-display&#39;&#34;\n",
       "                :init-render-options=&#34;initRenderOptions&#34;\n",
       "        &gt;&lt;/circuit-display-container&gt;\n",
       "    &lt;/div&gt;\n",
       "    &lt;script type=&#34;application/javascript&#34;&gt;\n",
       "      const circuitRendererUid = &#34;55e8aff9-451e-451d-9df1-a0f3231b159d&#34;;\n",
       "      const displayOptions = JSON.parse(&#39;{}&#39;);\n",
       "\n",
       "      // Script to initialise the circuit renderer app\n",
       "\n",
       "const { createApp } = Vue;\n",
       "const circuitDisplayContainer = window[&#34;pytket-circuit-renderer&#34;].default;\n",
       "// Init variables to be shared between circuit display instances\n",
       "if (typeof window.pytketCircuitDisplays === &#34;undefined&#34;) {\n",
       "    window.pytketCircuitDisplays = {};\n",
       "}\n",
       "// Create the root Vue component\n",
       "const app = createApp({\n",
       "    delimiters: [&#39;[[#&#39;, &#39;#]]&#39;],\n",
       "    components: { circuitDisplayContainer },\n",
       "    data () {\n",
       "      return {\n",
       "        initRenderOptions: displayOptions,\n",
       "      }\n",
       "    }\n",
       "})\n",
       "app.config.unwrapInjectedRef = true;\n",
       "app.mount(&#34;#circuit-display-vue-container-&#34;+circuitRendererUid);\n",
       "window.pytketCircuitDisplays[circuitRendererUid] = app;\n",
       "    &lt;/script&gt;\n",
       "\n",
       "\n",
       "\n",
       "&lt;/body&gt;\n",
       "&lt;/html&gt;\n",
       "\"\n",
       "            width=\"100%\" height=\"100%\"\n",
       "            style=\"border: none; outline: none; overflow: auto\"></iframe>\n",
       "</div>\n",
       "\n"
      ],
      "text/plain": [
       "<IPython.core.display.HTML object>"
      ]
     },
     "metadata": {},
     "output_type": "display_data"
    }
   ],
   "source": [
    "render_circuit_jupyter(QPE)"
   ]
  }
 ],
 "metadata": {
  "kernelspec": {
   "display_name": "Python 3 (ipykernel)",
   "language": "python",
   "name": "python3"
  },
  "language_info": {
   "codemirror_mode": {
    "name": "ipython",
    "version": 3
   },
   "file_extension": ".py",
   "mimetype": "text/x-python",
   "name": "python",
   "nbconvert_exporter": "python",
   "pygments_lexer": "ipython3",
   "version": "3.10.10"
  }
 },
 "nbformat": 4,
 "nbformat_minor": 5
}
